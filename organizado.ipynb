{
 "cells": [
  {
   "cell_type": "markdown",
   "metadata": {},
   "source": [
    "# Documentação Útil"
   ]
  },
  {
   "cell_type": "code",
   "execution_count": null,
   "metadata": {},
   "outputs": [],
   "source": [
    "#Requisitar no servidor para acessar a página todo o 'código fonte'\n",
    "from urllib.request import urlopen\n",
    "\n",
    "#Transforma a resposta da página para que possamos acessar de fato de forma fácil\n",
    "from bs4 import BeautifulSoup\n",
    "\n",
    "#O Parser é o que possibilita pegar o arquivo html e entender(interpretar) o que é uma tag, classe etc\n",
    "soup = BeautifulSoup(html, 'html.parser')\n",
    "\n",
    "#Strip: Remove os espaços em branco do início e do fim de cada bloco de texto retornado\n",
    "soup.get_text(separator=' || ', strip=True)"
   ]
  },
  {
   "cell_type": "markdown",
   "metadata": {},
   "source": [
    "# Importação Bibliotecas"
   ]
  },
  {
   "cell_type": "code",
   "execution_count": null,
   "metadata": {},
   "outputs": [],
   "source": [
    "# Importando bibliotecas\n",
    "from urllib.request import urlopen, urlretrieve\n",
    "from bs4 import BeautifulSoup\n",
    "import pandas as pd"
   ]
  },
  {
   "cell_type": "markdown",
   "metadata": {},
   "source": [
    "# Acessando o site e a página"
   ]
  },
  {
   "cell_type": "code",
   "execution_count": null,
   "metadata": {},
   "outputs": [],
   "source": [
    "# Declarando variável cards\n",
    "cards = []\n",
    "# Obtendo o HTML e o Total de páginas\n",
    "response = urlopen('https://alura-site-scraping.herokuapp.com/index.php')\n",
    "html = response.read().decode('utf-8')\n",
    "soup = BeautifulSoup(html, 'html.parser')\n",
    "pages = int(soup.find('span',class_='info-pages').get_text().split()[-1])"
   ]
  },
  {
   "cell_type": "markdown",
   "metadata": {},
   "source": [
    "# Corpo do Código"
   ]
  },
  {
   "cell_type": "code",
   "execution_count": null,
   "metadata": {},
   "outputs": [],
   "source": [
    "# Iterando por todas as páginas do site\n",
    "for i in range(pages):\n",
    "    # Obtendo o HTML\n",
    "    response = urlopen('https://alura-site-scraping.herokuapp.com/index.php?page='+ str(i + 1))\n",
    "    html = response.read().decode('utf-8')\n",
    "    soup = BeautifulSoup(html, 'html.parser')   \n",
    "    # Obtendo as TAGs de interesse\n",
    "    anuncios = soup.find('div',{'id':'container-cards'}).findAll('div',class_='card')\n",
    "    # Coletando as informações dos cards\n",
    "    for anuncio in anuncios:\n",
    "        card = {}\n",
    "\n",
    "        #Valor\n",
    "        card['value'] = anuncio.find('p',{'class':'txt-value'}).getText()\n",
    "\n",
    "        #Informações\n",
    "        infos = anuncio.find('div',{'class':'body-card'}).findAll('p')\n",
    "        for info in infos:\n",
    "            card[info.get('class')[0].split('-')[-1]] = info.get_text()\n",
    "            \n",
    "        #Acessórios\n",
    "        items = anuncio.find('div',{'class':'body-card'}).find('ul').findAll('li')\n",
    "        items.pop()\n",
    "        acessorios = []\n",
    "        for item in items:\n",
    "            acessorios.append(item.getText().replace('► ', ''))\n",
    "        card['items'] = acessorios\n",
    "\n",
    "        # Adicionando resultado à lista cards\n",
    "        cards.append(card)\n",
    "\n",
    "        #Imagens\n",
    "        image = anuncio.find('div',{'class':'image-card'}).img\n",
    "        urlretrieve(image.get('src'),'./output/img/'+ image.get('src').split('/')[-1])\n",
    "\n",
    "\n",
    "\n"
   ]
  },
  {
   "cell_type": "markdown",
   "metadata": {},
   "source": [
    "# Exportando para CSV"
   ]
  },
  {
   "cell_type": "code",
   "execution_count": null,
   "metadata": {},
   "outputs": [],
   "source": [
    "# Criando um DataFrame com os resultados\n",
    "dataset = pd.DataFrame(cards)\n",
    "dataset.to_csv('./output/data/dataset.csv', sep=';', index = False, encoding = 'utf-8-sig')\n",
    "dataset"
   ]
  }
 ],
 "metadata": {
  "kernelspec": {
   "display_name": "Python 3.9.12 ('base')",
   "language": "python",
   "name": "python3"
  },
  "language_info": {
   "codemirror_mode": {
    "name": "ipython",
    "version": 3
   },
   "file_extension": ".py",
   "mimetype": "text/x-python",
   "name": "python",
   "nbconvert_exporter": "python",
   "pygments_lexer": "ipython3",
   "version": "3.9.12"
  },
  "orig_nbformat": 4,
  "vscode": {
   "interpreter": {
    "hash": "5f1b78eb436411a9c3c2406ff65dd6a2a483e2b78ec2ae8c1343ef3e593983b6"
   }
  }
 },
 "nbformat": 4,
 "nbformat_minor": 2
}
